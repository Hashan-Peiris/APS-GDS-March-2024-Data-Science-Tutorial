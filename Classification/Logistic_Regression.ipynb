{
  "nbformat": 4,
  "nbformat_minor": 0,
  "metadata": {
    "colab": {
      "provenance": [],
      "authorship_tag": "ABX9TyPNzdbt/9z0gHV/OhP0fIpv",
      "include_colab_link": true
    },
    "kernelspec": {
      "name": "python3",
      "display_name": "Python 3"
    },
    "language_info": {
      "name": "python"
    }
  },
  "cells": [
    {
      "cell_type": "markdown",
      "metadata": {
        "id": "view-in-github",
        "colab_type": "text"
      },
      "source": [
        "<a href=\"https://colab.research.google.com/github/williamratcliff/APS-GDS-March-2024-Data-Science-Tutorial/blob/main/Classification/Logistic_Regression.ipynb\" target=\"_parent\"><img src=\"https://colab.research.google.com/assets/colab-badge.svg\" alt=\"Open In Colab\"/></a>"
      ]
    },
    {
      "cell_type": "code",
      "source": [
        "import numpy as np\n",
        "import matplotlib.pyplot as plt\n"
      ],
      "metadata": {
        "id": "NH7SufJB-wHz"
      },
      "execution_count": 2,
      "outputs": []
    },
    {
      "cell_type": "code",
      "source": [
        "try:\n",
        "    import google.colab\n",
        "    COLAB = True\n",
        "except ImportError:\n",
        "    COLAB = False\n",
        "\n",
        "if COLAB:\n",
        "    print(\"You are in Google Colab!\")\n",
        "else:\n",
        "    print(\"You are not in Google Colab.\")\n",
        "\n"
      ],
      "metadata": {
        "colab": {
          "base_uri": "https://localhost:8080/"
        },
        "id": "OFIXE66J7P5-",
        "outputId": "e9d7e8e6-04be-4fc5-ef76-28bd7733959e"
      },
      "execution_count": 3,
      "outputs": [
        {
          "output_type": "stream",
          "name": "stdout",
          "text": [
            "You are in Google Colab!\n"
          ]
        }
      ]
    },
    {
      "cell_type": "code",
      "source": [
        "if COLAB:\n",
        "  url=\"https://raw.githubusercontent.com/pbharrin/machinelearninginaction3x/master/Ch05/horseColicTest.txt\"\n",
        "  url2=\"https://raw.githubusercontent.com/pbharrin/machinelearninginaction3x/master/Ch05/horseColicTraining.txt\"\n",
        "  url3=\"https://raw.githubusercontent.com/pbharrin/machinelearninginaction3x/master/Ch05/testSet.txt\"\n",
        "#  dataset = pd.read_csv(url, header=0)\n",
        "#else:\n",
        "#  dataset = pd.read_csv(\"RandomForest_data.csv\")\n",
        "\n",
        "#\n",
        "!wget $url -O horseColicTest.txt\n",
        "!wget $url2 -O horseColicTraining.txt\n",
        "!wget $url3 -O testSet.txt\n",
        "!ls\n"
      ],
      "metadata": {
        "colab": {
          "base_uri": "https://localhost:8080/"
        },
        "id": "Gzsu-HNS8j9h",
        "outputId": "45e0ac71-853f-46ab-a187-b5166fe35ea2"
      },
      "execution_count": 4,
      "outputs": [
        {
          "output_type": "stream",
          "name": "stdout",
          "text": [
            "--2024-03-03 18:06:31--  https://raw.githubusercontent.com/pbharrin/machinelearninginaction3x/master/Ch05/horseColicTest.txt\n",
            "Resolving raw.githubusercontent.com (raw.githubusercontent.com)... 185.199.109.133, 185.199.110.133, 185.199.108.133, ...\n",
            "Connecting to raw.githubusercontent.com (raw.githubusercontent.com)|185.199.109.133|:443... connected.\n",
            "HTTP request sent, awaiting response... 200 OK\n",
            "Length: 3722 (3.6K) [text/plain]\n",
            "Saving to: ‘horseColicTest.txt’\n",
            "\n",
            "horseColicTest.txt  100%[===================>]   3.63K  --.-KB/s    in 0s      \n",
            "\n",
            "2024-03-03 18:06:31 (58.3 MB/s) - ‘horseColicTest.txt’ saved [3722/3722]\n",
            "\n",
            "--2024-03-03 18:06:31--  https://raw.githubusercontent.com/pbharrin/machinelearninginaction3x/master/Ch05/horseColicTraining.txt\n",
            "Resolving raw.githubusercontent.com (raw.githubusercontent.com)... 185.199.109.133, 185.199.111.133, 185.199.110.133, ...\n",
            "Connecting to raw.githubusercontent.com (raw.githubusercontent.com)|185.199.109.133|:443... connected.\n",
            "HTTP request sent, awaiting response... 200 OK\n",
            "Length: 60357 (59K) [text/plain]\n",
            "Saving to: ‘horseColicTraining.txt’\n",
            "\n",
            "horseColicTraining. 100%[===================>]  58.94K  --.-KB/s    in 0.01s   \n",
            "\n",
            "2024-03-03 18:06:31 (5.58 MB/s) - ‘horseColicTraining.txt’ saved [60357/60357]\n",
            "\n",
            "--2024-03-03 18:06:31--  https://raw.githubusercontent.com/pbharrin/machinelearninginaction3x/master/Ch05/testSet.txt\n",
            "Resolving raw.githubusercontent.com (raw.githubusercontent.com)... 185.199.108.133, 185.199.110.133, 185.199.111.133, ...\n",
            "Connecting to raw.githubusercontent.com (raw.githubusercontent.com)|185.199.108.133|:443... connected.\n",
            "HTTP request sent, awaiting response... 200 OK\n",
            "Length: 2087 (2.0K) [text/plain]\n",
            "Saving to: ‘testSet.txt’\n",
            "\n",
            "testSet.txt         100%[===================>]   2.04K  --.-KB/s    in 0s      \n",
            "\n",
            "2024-03-03 18:06:31 (19.9 MB/s) - ‘testSet.txt’ saved [2087/2087]\n",
            "\n",
            "horseColicTest.txt  horseColicTraining.txt  sample_data  testSet.txt\n"
          ]
        }
      ]
    },
    {
      "cell_type": "code",
      "source": [
        "# prompt: plot testSet.txt.  The first column in the file is x1, the third is x2, the third is a label.  Color points with the label=0 as blue and those with the label =1 as red.  Make a legend showing the Label=0 as Class 0 and the label=1 as Class 1.  Make a legend showing red for Class 1 and blue for Class 2\n",
        "\n",
        "import numpy as np\n",
        "import matplotlib.pyplot as plt\n",
        "\n",
        "# Load the data from the file\n",
        "data = np.loadtxt('testSet.txt')\n",
        "\n",
        "# Separate the data into x1, x2, and label\n",
        "x1 = data[:, 0]\n",
        "x2 = data[:, 1]\n",
        "label = data[:, -1]\n",
        "\n",
        "# Create a figure and axes\n",
        "fig, ax = plt.subplots()\n",
        "\n",
        "# Plot the points with label=0 as blue and those with label=1 as red\n",
        "ax.scatter(x1[label == 0], x2[label == 0], c='b', label='Class 0')\n",
        "ax.scatter(x1[label == 1], x2[label == 1], c='r', label='Class 1')\n",
        "\n",
        "# Add a legend\n",
        "ax.legend()\n",
        "\n",
        "# Add labels to the axes\n",
        "ax.set_xlabel('x1')\n",
        "ax.set_ylabel('x2')\n",
        "\n",
        "# Show the plot\n",
        "plt.show()\n"
      ],
      "metadata": {
        "colab": {
          "base_uri": "https://localhost:8080/",
          "height": 449
        },
        "id": "qwaPbCI7_1Fw",
        "outputId": "cbe1efa9-fc37-4b93-834c-95a5fce48cfb"
      },
      "execution_count": 5,
      "outputs": [
        {
          "output_type": "display_data",
          "data": {
            "text/plain": [
              "<Figure size 640x480 with 1 Axes>"
            ],
            "image/png": "[encoded data removed]"
          },
          "metadata": {}
        }
      ]
    },
    {
      "cell_type": "code",
      "source": [
        "def sigmoid(inX):\n",
        "    return 1.0 / (1 + np.exp(-inX))"
      ],
      "metadata": {
        "id": "GdErC353-iQe"
      },
      "execution_count": 6,
      "outputs": []
    },
    {
      "cell_type": "code",
      "source": [
        "# prompt: plot the sigmoid function\n",
        "\n",
        "import numpy as np\n",
        "import matplotlib.pyplot as plt\n",
        "\n",
        "x = np.arange(-10.0, 10.0, 0.2)\n",
        "y = sigmoid(x)\n",
        "\n",
        "plt.plot(x, y)\n",
        "plt.ylabel('y')\n",
        "plt.xlabel('x')\n",
        "plt.show()\n"
      ],
      "metadata": {
        "colab": {
          "base_uri": "https://localhost:8080/",
          "height": 449
        },
        "id": "Tj4M9Lwq_QfT",
        "outputId": "89b6fa16-a67b-49cf-e740-cfbddc109036"
      },
      "execution_count": 7,
      "outputs": [
        {
          "output_type": "display_data",
          "data": {
            "text/plain": [
              "<Figure size 640x480 with 1 Axes>"
            ],
            "image/png": "[encoded data removed]"
          },
          "metadata": {}
        }
      ]
    },
    {
      "cell_type": "code",
      "source": [
        "# prompt: plot the sigmoid function over an input range of -60 to 60\n",
        "\n",
        "x = np.arange(-60.0, 60.0, 0.2)\n",
        "y = sigmoid(x)\n",
        "\n",
        "plt.plot(x, y)\n",
        "plt.ylabel('y')\n",
        "plt.xlabel('x')\n",
        "plt.show()\n"
      ],
      "metadata": {
        "colab": {
          "base_uri": "https://localhost:8080/",
          "height": 449
        },
        "id": "M3gyZuaX6mv8",
        "outputId": "1c84c877-865f-4c9d-9232-2aca57a3abe3"
      },
      "execution_count": 8,
      "outputs": [
        {
          "output_type": "display_data",
          "data": {
            "text/plain": [
              "<Figure size 640x480 with 1 Axes>"
            ],
            "image/png": "[encoded data removed]"
          },
          "metadata": {}
        }
      ]
    },
    {
      "cell_type": "code",
      "source": [
        "def loadDataSet():\n",
        "    dataMat = []; labelMat = []\n",
        "    fr = open('testSet.txt')\n",
        "    for line in fr.readlines():\n",
        "        lineArr = line.strip().split()\n",
        "        dataMat.append([1.0, float(lineArr[0]), float(lineArr[1])])\n",
        "        labelMat.append(int(lineArr[2]))\n",
        "    return dataMat, labelMat"
      ],
      "metadata": {
        "id": "hLMmrRCmfozw"
      },
      "execution_count": 9,
      "outputs": []
    },
    {
      "cell_type": "code",
      "source": [
        "def plotBestFit(weights):\n",
        "\n",
        "    dataMat, labelMat = loadDataSet()\n",
        "    dataArr = np.array(dataMat)\n",
        "    n = np.shape(dataArr)[0]\n",
        "    xcord1 = []; ycord1 = []\n",
        "    xcord2 = []; ycord2 = []\n",
        "    for i in range(n):\n",
        "        if int(labelMat[i]) == 1:\n",
        "            xcord1.append(dataArr[i, 1]); ycord1.append(dataArr[i, 2])\n",
        "        else:\n",
        "            xcord2.append(dataArr[i, 1]); ycord2.append(dataArr[i, 2])\n",
        "    fig = plt.figure()\n",
        "    ax = fig.add_subplot(111)\n",
        "    ax.scatter(xcord1, ycord1, s=30, c='red', marker='s')\n",
        "    ax.scatter(xcord2, ycord2, s=30, c='green')\n",
        "    x = np.arange(-3.0, 3.0, 0.1)\n",
        "    y = (-weights[0]-weights[1]*x)/weights[2]\n",
        "    ax.plot(x, y)\n",
        "    plt.xlabel('X1'); plt.ylabel('X2')\n",
        "    plt.show()\n",
        "\n"
      ],
      "metadata": {
        "id": "51CnKQgn6wd-"
      },
      "execution_count": 10,
      "outputs": []
    },
    {
      "cell_type": "code",
      "source": [
        "def gradAscent(dataMatIn, classLabels):\n",
        "    dataMatrix = np.mat(dataMatIn)             #convert to NumPy matrix\n",
        "    labelMat = np.mat(classLabels).transpose() #convert to NumPy matrix\n",
        "    m, n = np.shape(dataMatrix)\n",
        "    alpha = 0.001\n",
        "    maxCycles = 500\n",
        "    weights = np.ones((n, 1))\n",
        "    for k in range(maxCycles):              #heavy on matrix operations\n",
        "        h = sigmoid(dataMatrix*weights)     #matrix mult\n",
        "        error = (labelMat - h)              #vector subtraction\n",
        "        weights = weights + alpha * dataMatrix.transpose()* error #matrix mult\n",
        "    return weights"
      ],
      "metadata": {
        "id": "oSIUghmj0zYw"
      },
      "execution_count": 11,
      "outputs": []
    },
    {
      "cell_type": "code",
      "source": [
        "dataArr, labelMat = loadDataSet()\n",
        "weights = gradAscent(dataArr, labelMat)\n",
        "plotBestFit(weights.getA())"
      ],
      "metadata": {
        "colab": {
          "base_uri": "https://localhost:8080/",
          "height": 449
        },
        "id": "5d_r15_-zoEo",
        "outputId": "5222a630-cc02-416b-a724-52b35c86d143"
      },
      "execution_count": 12,
      "outputs": [
        {
          "output_type": "display_data",
          "data": {
            "text/plain": [
              "<Figure size 640x480 with 1 Axes>"
            ],
            "image/png": "[encoded data removed]"
          },
          "metadata": {}
        }
      ]
    },
    {
      "cell_type": "code",
      "source": [
        "def stocGradAscent0(dataMatrix, classLabels):\n",
        "    m, n = np.shape(dataMatrix)\n",
        "    alpha = 0.01\n",
        "    weights = np.ones(n)   #initialize to all ones\n",
        "    for i in range(m):\n",
        "        h = sigmoid(sum(dataMatrix[i]*weights))\n",
        "        error = classLabels[i] - h\n",
        "        weights = weights + alpha * error * dataMatrix[i]\n",
        "    return weights\n",
        "\n",
        "def stocGradAscent1(dataMatrix, classLabels, numIter=150):\n",
        "    m, n = np.shape(dataMatrix)\n",
        "    weights = np.ones(n)   #initialize to all ones\n",
        "    for j in range(numIter):\n",
        "        dataIndex = list(range(m))\n",
        "        for i in range(m):\n",
        "            alpha = 4/(1.0+j+i)+0.0001    #apha decreases with iteration, does not\n",
        "            randIndex = int(np.random.uniform(0, len(dataIndex)))#go to 0 because of the constant\n",
        "            h = sigmoid(sum(dataMatrix[randIndex]*weights))\n",
        "            error = classLabels[randIndex] - h\n",
        "            weights = weights + alpha * error * dataMatrix[randIndex]\n",
        "            del(dataIndex[randIndex])\n",
        "    return weights\n",
        "\n"
      ],
      "metadata": {
        "id": "TAhr8bKBzi4f"
      },
      "execution_count": 13,
      "outputs": []
    },
    {
      "cell_type": "markdown",
      "source": [
        "Now, explore Stochastic Gradient descent.  How does it do after one pass throught the data?  If you try the first method, plot how x0,x1, and x2 change as a a function of the number of iterations.\n",
        "\n",
        "\n",
        "How is this improved by stochGradAscent1?\n",
        "\n",
        "Using StochoGradAscent1 with 150 interations, see how it goes."
      ],
      "metadata": {
        "id": "iPzb9IvP266L"
      }
    },
    {
      "cell_type": "code",
      "source": [],
      "metadata": {
        "id": "7znRbNFk24Xy"
      },
      "execution_count": 13,
      "outputs": []
    },
    {
      "cell_type": "code",
      "source": [
        "def classifyVector(inX, weights):\n",
        "    prob = sigmoid(sum(inX*weights))\n",
        "    if prob > 0.5: return 1.0\n",
        "    else: return 0.0"
      ],
      "metadata": {
        "id": "vrceBMQf22Ne"
      },
      "execution_count": 14,
      "outputs": []
    },
    {
      "cell_type": "code",
      "source": [
        "def colicTest():\n",
        "    frTrain = open('horseColicTraining.txt'); frTest = open('horseColicTest.txt')\n",
        "    trainingSet = []; trainingLabels = []\n",
        "    for line in frTrain.readlines():\n",
        "        currLine = line.strip().split('\\t')\n",
        "        lineArr = []\n",
        "        for i in range(21):\n",
        "            lineArr.append(float(currLine[i]))\n",
        "        trainingSet.append(lineArr)\n",
        "        trainingLabels.append(float(currLine[21]))\n",
        "    trainWeights = stocGradAscent1(np.array(trainingSet), trainingLabels, 1000)\n",
        "    errorCount = 0; numTestVec = 0.0\n",
        "    for line in frTest.readlines():\n",
        "        numTestVec += 1.0\n",
        "        currLine = line.strip().split('\\t')\n",
        "        lineArr = []\n",
        "        for i in range(21):\n",
        "            lineArr.append(float(currLine[i]))\n",
        "        if int(classifyVector(np.array(lineArr), trainWeights)) != int(currLine[21]):\n",
        "            errorCount += 1\n",
        "    errorRate = (float(errorCount)/numTestVec)\n",
        "    print(\"the error rate of this test is: %f\" % errorRate)\n",
        "    return errorRate"
      ],
      "metadata": {
        "id": "JQaFzlpC60_z"
      },
      "execution_count": 15,
      "outputs": []
    },
    {
      "cell_type": "code",
      "source": [
        "def multiTest():\n",
        "    numTests = 10; errorSum = 0.0\n",
        "    for k in range(numTests):\n",
        "        errorSum += colicTest()\n",
        "    print(\"after %d iterations the average error rate is: %f\" % (numTests, errorSum/float(numTests)))"
      ],
      "metadata": {
        "id": "kOe_BKIQ7AuI"
      },
      "execution_count": 16,
      "outputs": []
    },
    {
      "cell_type": "code",
      "source": [
        "colicTest()"
      ],
      "metadata": {
        "colab": {
          "base_uri": "https://localhost:8080/"
        },
        "id": "8J9tPLOD7JeK",
        "outputId": "c7baf12d-39e5-4eed-93cb-65e0c9bcc04e"
      },
      "execution_count": 17,
      "outputs": [
        {
          "output_type": "stream",
          "name": "stderr",
          "text": [
            "<ipython-input-6-81d29b36c8e0>:2: RuntimeWarning: overflow encountered in exp\n",
            "  return 1.0 / (1 + np.exp(-inX))\n"
          ]
        },
        {
          "output_type": "stream",
          "name": "stdout",
          "text": [
            "the error rate of this test is: 0.283582\n"
          ]
        },
        {
          "output_type": "execute_result",
          "data": {
            "text/plain": [
              "0.2835820895522388"
            ]
          },
          "metadata": {},
          "execution_count": 17
        }
      ]
    },
    {
      "cell_type": "code",
      "source": [
        "multiTest()"
      ],
      "metadata": {
        "colab": {
          "base_uri": "https://localhost:8080/"
        },
        "id": "bTeZJxLF7Sxk",
        "outputId": "78a435ce-40cc-40fb-c0e0-da97905071f1"
      },
      "execution_count": 18,
      "outputs": [
        {
          "output_type": "stream",
          "name": "stderr",
          "text": [
            "<ipython-input-6-81d29b36c8e0>:2: RuntimeWarning: overflow encountered in exp\n",
            "  return 1.0 / (1 + np.exp(-inX))\n"
          ]
        },
        {
          "output_type": "stream",
          "name": "stdout",
          "text": [
            "the error rate of this test is: 0.313433\n",
            "the error rate of this test is: 0.283582\n",
            "the error rate of this test is: 0.268657\n",
            "the error rate of this test is: 0.328358\n",
            "the error rate of this test is: 0.328358\n",
            "the error rate of this test is: 0.298507\n",
            "the error rate of this test is: 0.402985\n",
            "the error rate of this test is: 0.373134\n",
            "the error rate of this test is: 0.283582\n",
            "the error rate of this test is: 0.313433\n",
            "after 10 iterations the average error rate is: 0.319403\n"
          ]
        }
      ]
    }
  ]
}